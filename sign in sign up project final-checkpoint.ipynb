{
 "cells": [
  {
   "cell_type": "markdown",
   "id": "b6e79604",
   "metadata": {},
   "source": [
    "signUp and signIn system\n",
    "\n",
    "signUp\n",
    "- Username and password\n",
    "- password Strength\n",
    "signIn\n",
    "- Username and password\n",
    " Database\n",
    "-Username\n",
    "-Password"
   ]
  },
  {
   "cell_type": "code",
   "execution_count": 1,
   "id": "7b35a5bd",
   "metadata": {},
   "outputs": [],
   "source": [
    "d={\"admin\":\"password\"}\n",
    "D={}"
   ]
  },
  {
   "cell_type": "code",
   "execution_count": 2,
   "id": "c74a63c1",
   "metadata": {},
   "outputs": [],
   "source": [
    "def checkpasswordstrength(password):\n",
    "    while 1:\n",
    "        strength=0\n",
    "        if len(password)>=8:\n",
    "            strength+=1\n",
    "        for i in password:\n",
    "            if (i >= 'A' and i <= 'Z')or( i >= 'a' and i <= 'z'):\n",
    "                strength+=1\n",
    "                break\n",
    "        for i in password:\n",
    "             if i >= '0' and i <= '9':\n",
    "                strength+=1\n",
    "                break        \n",
    "        for i in password:\n",
    "            if i in '[@_!#$%^&*()<>?/\\|}{~:]':\n",
    "                strength+=1\n",
    "                break    \n",
    "        if strength==4:\n",
    "            return password \n",
    "        else:\n",
    "            print(\"please Enter strong password.\")\n",
    "            password=input(\"Enter strong password:\")\n",
    "\n"
   ]
  },
  {
   "cell_type": "code",
   "execution_count": 3,
   "id": "bbc34d63",
   "metadata": {},
   "outputs": [],
   "source": [
    "def confirmpassword(pa):\n",
    "    while 1:\n",
    "        pas=input(\"Re-enter  password:\")\n",
    "        if (pas == pa):\n",
    "            return\n",
    "        else:\n",
    "            print(\"Password does not match.\")\n",
    "            "
   ]
  },
  {
   "cell_type": "code",
   "execution_count": 4,
   "id": "1c9dbb39",
   "metadata": {},
   "outputs": [],
   "source": [
    "\n",
    "\n",
    "# function to generate OTP\n",
    "def generateOTP() :\n",
    "    import math, random\n",
    "    digits = \"0123456789\"\n",
    "    OTP = \"\"\n",
    "    for i in range(4) :\n",
    "        OTP += digits[math.floor(random.random() * 10)]\n",
    "\n",
    "    return OTP"
   ]
  },
  {
   "cell_type": "code",
   "execution_count": 5,
   "id": "55f91b97",
   "metadata": {},
   "outputs": [],
   "source": [
    "\n",
    "from twilio.rest import Client\n",
    "import random\n",
    "\n",
    "account_sid = 'ACd542c8388715067941bb9e03686a3e23'\n",
    "auth_token = '4d80725ac494548afd9f9e03d7a2ee4f'\n",
    "\n",
    "client = Client(account_sid, auth_token)\n",
    "message = client.messages.create(\n",
    "                            from_ = '+16074246976',\n",
    "                            body = 'Your OTP to recover your account' + generateOTP(), \n",
    "                            to = '+919691745066'  )\n",
    "\n",
    "print(message.sid)\n"
   ]
  },
  {
   "cell_type": "code",
   "execution_count": 6,
   "id": "aecac0ef",
   "metadata": {},
   "outputs": [],
   "source": [
    "def forgotpass(user):\n",
    "    while 1:\n",
    "        c=input(\"Enter your Choice 1 for security question,2 for OTP,0 for exit\")\n",
    "        if c=='0':\n",
    "            return 'Failed'\n",
    "        if c=='1':\n",
    "            d=input(\"Enter your nickname:\")\n",
    "            pass\n",
    "        if c==2:\n",
    "            d=int(input(\"Enter otp:\"))\n",
    "            D=generateOTP()\n",
    "            if d==D:\n",
    "                pass\n",
    "        if D[user]==d:\n",
    "            pas=input(\"Enter new password:\")\n",
    "            if checkpasswordstrength(pas):\n",
    "                pass\n",
    "            if confirmpassword(pas):\n",
    "                pass\n",
    "            d[user]=pas\n",
    "            return \"Password updated sucessfully\"\n",
    "        else:\n",
    "             print(\"Enter correct nickname or press 0 to go back\")\n",
    "        "
   ]
  },
  {
   "cell_type": "code",
   "execution_count": 7,
   "id": "6c9b2fdb",
   "metadata": {},
   "outputs": [],
   "source": [
    "def signup():\n",
    "    print(\"***Welcome to sign up page***\")   \n",
    "    while 1:\n",
    "        username=input(\"Enter a New username:\").lower()\n",
    "        if username=='0':\n",
    "            return \"Failed\"\n",
    "        if username  not in d:\n",
    "            print(\"Give me more information about you\")\n",
    "            a=input(\"What is your nick name:\")\n",
    "            password=input(\"Enter a strong password:\")\n",
    "            password = checkpasswordstrength(password)\n",
    "            if confirmpassword(password):\n",
    "                pass\n",
    "            d.update({username:password}) \n",
    "            return 'Successful' \n",
    "        else:\n",
    "            print('''Username already taken. Try another\n",
    "            Press  to Go Back/Exit\n",
    "            or Try another''') \n",
    "             "
   ]
  },
  {
   "cell_type": "code",
   "execution_count": 8,
   "id": "883191dd",
   "metadata": {},
   "outputs": [],
   "source": [
    "def signin():\n",
    "    print(\"***Welcome to Sign in page***\")\n",
    "    while 1:\n",
    "        user=input(\"Enter your username:\").lower()\n",
    "        if user=='0':\n",
    "            return 'Failed'\n",
    "        if user=='1':\n",
    "            print(\"SignUp\",signup())\n",
    "        if user in d:\n",
    "            for i in range(3):\n",
    "                p=input(\"Enter your password:\")\n",
    "                if p=='0':\n",
    "                    return 'Failed'\n",
    "                if d[user]==p:\n",
    "                    return \"Successful\"\n",
    "                else:\n",
    "                    print(\"Incorrect Password or Press 0 to Go Back/Exit...\")\n",
    "                    print(\"Chance left\",2-i)\n",
    "            A=input(\"Do you want to reset password ? if yes then press 0 else press 1:\")\n",
    "            if A=='0':\n",
    "                print(\"Your \",forgotpass(user))\n",
    "            else:\n",
    "                return 'Failed'\n",
    "        else:\n",
    "            print('''Username doesn't exist. Try another\n",
    "            Press 0 to Go Back/Exit\n",
    "            press 1 to signUp\n",
    "            or Try again''') \n"
   ]
  },
  {
   "cell_type": "code",
   "execution_count": 9,
   "id": "4d935fee",
   "metadata": {},
   "outputs": [
    {
     "name": "stdout",
     "output_type": "stream",
     "text": [
      "press 1 to signUp\n",
      "    Press 2 to SignIn\n",
      "    press 0 to Exit\n",
      "    :0\n"
     ]
    }
   ],
   "source": [
    "flag=1\n",
    "print(\"***Welcome to my project***\")\n",
    "while(flag):\n",
    "    mode=input('''press 1 to signUp\n",
    "    Press 2 to SignIn\n",
    "    press 0 to Exit\n",
    "    :''')\n",
    "    if mode=='1':\n",
    "        print(\"SignUp\",signup())\n",
    "        \n",
    "    elif mode=='2':\n",
    "        print(\"SignIn\",signin())\n",
    "    elif mode=='0':\n",
    "        print(\"Exiting...\")\n",
    "        flag=0\n",
    "    else:\n",
    "        print(\"Invalid Input..\")\n",
    "    "
   ]
  },
  {
   "cell_type": "code",
   "execution_count": null,
   "id": "561732a6",
   "metadata": {},
   "outputs": [],
   "source": [
    "\n"
   ]
  },
  {
   "cell_type": "code",
   "execution_count": null,
   "id": "73975bd1",
   "metadata": {},
   "outputs": [],
   "source": []
  }
 ],
 "metadata": {
  "kernelspec": {
   "display_name": "Python 3 (ipykernel)",
   "language": "python",
   "name": "python3"
  },
  "language_info": {
   "codemirror_mode": {
    "name": "ipython",
    "version": 3
   },
   "file_extension": ".py",
   "mimetype": "text/x-python",
   "name": "python",
   "nbconvert_exporter": "python",
   "pygments_lexer": "ipython3",
   "version": "3.11.1"
  }
 },
 "nbformat": 4,
 "nbformat_minor": 5
}
